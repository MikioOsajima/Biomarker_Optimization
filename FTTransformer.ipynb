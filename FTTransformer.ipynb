{
 "cells": [
  {
   "cell_type": "code",
   "execution_count": null,
   "id": "5852112e",
   "metadata": {},
   "outputs": [],
   "source": [
    "import torch\n",
    "from tab_transformer_pytorch import FTTransformer  # FT-Transformer をインポート，．\n",
    "\n",
    "model_ft = FTTransformer(\n",
    "    categories=(10, 5, 6, 5, 8),  # 同じくカテゴリごとのユニーク値数，．\n",
    "    num_continuous=10,            # 連続変数数，．\n",
    "    dim=32,                       # 埋め込み次元，．\n",
    "    dim_out=1,                    # 出力次元，．\n",
    "    depth=6,                      # 深さ，．\n",
    "    heads=8,                      # ヘッド数，．\n",
    "    attn_dropout=0.1,             # Attention 後ドロップアウト，．\n",
    "    ff_dropout=0.1                # FFN 後ドロップアウト，．\n",
    ")  # 準備完了:contentReference[oaicite:2]{index=2}\n",
    "\n",
    "# 順伝播例\n",
    "x_categ = torch.randint(0, 5, (1, 5))  \n",
    "x_numer = torch.randn(1, 10)         \n",
    "pred_ft = model_ft(x_categ, x_numer)  # 同様に (1, dim_out)\n"
   ]
  }
 ],
 "metadata": {
  "language_info": {
   "name": "python"
  }
 },
 "nbformat": 4,
 "nbformat_minor": 5
}
