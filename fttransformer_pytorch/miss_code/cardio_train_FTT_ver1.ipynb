{
 "cells": [
  {
   "cell_type": "code",
   "execution_count": 5,
   "id": "d7790847",
   "metadata": {},
   "outputs": [
    {
     "name": "stderr",
     "output_type": "stream",
     "text": [
      "/home/osajima/miniforge3/lib/python3.12/site-packages/torch/nn/modules/transformer.py:385: UserWarning: enable_nested_tensor is True, but self.use_nested_tensor is False because encoder_layer.self_attn.batch_first was not True(use batch_first for better inference performance)\n",
      "  warnings.warn(\n"
     ]
    },
    {
     "data": {
      "image/png": "[encoded data removed]",
      "text/plain": [
       "<Figure size 640x480 with 2 Axes>"
      ]
     },
     "metadata": {},
     "output_type": "display_data"
    },
    {
     "data": {
      "text/plain": [
       "(0.5008571428571429, 0.667428136303065)"
      ]
     },
     "execution_count": 5,
     "metadata": {},
     "output_type": "execute_result"
    }
   ],
   "source": [
    "import pandas as pd\n",
    "import torch\n",
    "from sklearn.model_selection import train_test_split\n",
    "from sklearn.preprocessing import StandardScaler, LabelEncoder\n",
    "from torch.utils.data import Dataset, DataLoader\n",
    "from fttransformer import FTTransformer\n",
    "import torch.nn as nn\n",
    "import torch.optim as optim\n",
    "from sklearn.metrics import accuracy_score, f1_score, confusion_matrix\n",
    "\n",
    "# データの読み込みと前処理\n",
    "data = pd.read_csv(\"/home/osajima/ドキュメント/program/Transformer_Study/fttransformer_pytorch/cardio_train.csv\", sep=';')\n",
    "\n",
    "# 'id' を削除\n",
    "data = data.drop(columns=[\"id\"])\n",
    "\n",
    "# 特徴量とラベルに分割\n",
    "X = data.drop(columns=[\"cardio\"])\n",
    "y = data[\"cardio\"]\n",
    "\n",
    "# カテゴリカルと連続値の分離（仮に3つをカテゴリカルとみなす）\n",
    "categorical_cols = [\"gender\", \"cholesterol\", \"gluc\"]\n",
    "continuous_cols = [col for col in X.columns if col not in categorical_cols]\n",
    "\n",
    "# ラベルエンコーディング\n",
    "for col in categorical_cols:\n",
    "    le = LabelEncoder()\n",
    "    X[col] = le.fit_transform(X[col])\n",
    "\n",
    "# スケーリング（連続値）\n",
    "scaler = StandardScaler()\n",
    "X[continuous_cols] = scaler.fit_transform(X[continuous_cols])\n",
    "\n",
    "# 学習・テストデータに分割\n",
    "X_train, X_test, y_train, y_test = train_test_split(X, y, test_size=0.2, random_state=42)\n",
    "\n",
    "# PyTorch Dataset 定義\n",
    "class CardioDataset(Dataset):\n",
    "    def __init__(self, X, y):\n",
    "        self.X_categ = torch.tensor(X[categorical_cols].values, dtype=torch.long)\n",
    "        self.X_cont = torch.tensor(X[continuous_cols].values, dtype=torch.float32)\n",
    "        self.y = torch.tensor(y.values, dtype=torch.float32)\n",
    "\n",
    "    def __len__(self):\n",
    "        return len(self.y)\n",
    "\n",
    "    def __getitem__(self, idx):\n",
    "        return self.X_categ[idx], self.X_cont[idx], self.y[idx]\n",
    "\n",
    "# データローダー\n",
    "train_dataset = CardioDataset(X_train, y_train)\n",
    "test_dataset = CardioDataset(X_test, y_test)\n",
    "train_loader = DataLoader(train_dataset, batch_size=512, shuffle=True)\n",
    "test_loader = DataLoader(test_dataset, batch_size=512)\n",
    "\n",
    "# デバイス設定\n",
    "device = torch.device(\"cuda\" if torch.cuda.is_available() else \"cpu\")\n",
    "\n",
    "# モデルの定義\n",
    "model = FTTransformer(\n",
    "    categories=[X[col].nunique() for col in categorical_cols],\n",
    "    num_continuous=len(continuous_cols),\n",
    "    dim=32,\n",
    "    depth=4,\n",
    "    heads=4,\n",
    "    ff_dropout=0.1,\n",
    "    attn_dropout=0.1\n",
    ").to(device)\n",
    "\n",
    "# 損失関数と最適化手法\n",
    "criterion = nn.BCEWithLogitsLoss()\n",
    "optimizer = optim.Adam(model.parameters(), lr=1e-3)\n",
    "\n",
    "# 学習ループ（簡易版）\n",
    "for epoch in range(5):\n",
    "    model.train()\n",
    "    for x_cat, x_cont, labels in train_loader:\n",
    "        x_cat, x_cont, labels = x_cat.to(device), x_cont.to(device), labels.to(device).unsqueeze(1)\n",
    "        optimizer.zero_grad()\n",
    "        outputs = model(x_cat, x_cont)\n",
    "        loss = criterion(outputs, labels)\n",
    "        loss.backward()\n",
    "        optimizer.step()\n",
    "\n",
    "# 評価\n",
    "model.eval()\n",
    "all_preds, all_labels = [], []\n",
    "with torch.no_grad():\n",
    "    for x_cat, x_cont, labels in test_loader:\n",
    "        x_cat, x_cont = x_cat.to(device), x_cont.to(device)\n",
    "        outputs = model(x_cat, x_cont)\n",
    "        preds = torch.sigmoid(outputs).cpu().numpy() > 0.5\n",
    "        all_preds.extend(preds.flatten())\n",
    "        all_labels.extend(labels.numpy())\n",
    "\n",
    "# スコア計算\n",
    "acc = accuracy_score(all_labels, all_preds)\n",
    "f1 = f1_score(all_labels, all_preds)\n",
    "cm = confusion_matrix(all_labels, all_preds)\n",
    "\n",
    "import seaborn as sns\n",
    "import matplotlib.pyplot as plt\n",
    "import numpy as np\n",
    "import seaborn as sns\n",
    "import matplotlib.pyplot as plt\n",
    "\n",
    "sns.heatmap(cm, annot=True, fmt=\"d\", cmap=\"Blues\")\n",
    "plt.title(\"Confusion Matrix\")\n",
    "plt.xlabel(\"Predicted\")\n",
    "plt.ylabel(\"True\")\n",
    "plt.show()\n",
    "\n",
    "acc, f1\n"
   ]
  }
 ],
 "metadata": {
  "kernelspec": {
   "display_name": "base",
   "language": "python",
   "name": "python3"
  },
  "language_info": {
   "codemirror_mode": {
    "name": "ipython",
    "version": 3
   },
   "file_extension": ".py",
   "mimetype": "text/x-python",
   "name": "python",
   "nbconvert_exporter": "python",
   "pygments_lexer": "ipython3",
   "version": "3.12.9"
  }
 },
 "nbformat": 4,
 "nbformat_minor": 5
}
