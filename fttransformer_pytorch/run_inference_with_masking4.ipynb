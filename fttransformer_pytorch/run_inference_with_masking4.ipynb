{
 "cells": [
  {
   "cell_type": "code",
   "execution_count": 2,
   "id": "d4d410fa",
   "metadata": {},
   "outputs": [
    {
     "name": "stderr",
     "output_type": "stream",
     "text": [
      "/home/osajima/miniforge3/lib/python3.12/site-packages/torch/cuda/__init__.py:734: UserWarning: Can't initialize NVML\n",
      "  warnings.warn(\"Can't initialize NVML\")\n"
     ]
    },
    {
     "name": "stdout",
     "output_type": "stream",
     "text": [
      "=== Fold1 モデル読み込み: ./save_mask_models/best_model_epoch300_fold1_ValAcc0.732.pth ===\n"
     ]
    },
    {
     "name": "stderr",
     "output_type": "stream",
     "text": [
      "Fold1 推論: 100%|██████████| 14000/14000 [16:43<00:00, 13.94件/s]\n"
     ]
    },
    {
     "name": "stdout",
     "output_type": "stream",
     "text": [
      "Fold1 - base accuracy: 0.6943, improved accuracy: 0.7056\n",
      "✅ fold1_results.csv saved\n",
      "=== Fold2 モデル読み込み: ./save_mask_models/best_model_epoch300_fold2_ValAcc0.739.pth ===\n"
     ]
    },
    {
     "name": "stderr",
     "output_type": "stream",
     "text": [
      "Fold2 推論: 100%|██████████| 14000/14000 [16:52<00:00, 13.82件/s]\n"
     ]
    },
    {
     "name": "stdout",
     "output_type": "stream",
     "text": [
      "Fold2 - base accuracy: 0.6929, improved accuracy: 0.7050\n",
      "✅ fold2_results.csv saved\n",
      "=== Fold3 モデル読み込み: ./save_mask_models/best_model_epoch300_fold3_ValAcc0.731.pth ===\n"
     ]
    },
    {
     "name": "stderr",
     "output_type": "stream",
     "text": [
      "Fold3 推論: 100%|██████████| 14000/14000 [16:55<00:00, 13.79件/s]\n"
     ]
    },
    {
     "name": "stdout",
     "output_type": "stream",
     "text": [
      "Fold3 - base accuracy: 0.6954, improved accuracy: 0.7054\n",
      "✅ fold3_results.csv saved\n",
      "=== Fold4 モデル読み込み: ./save_mask_models/best_model_epoch300_fold4_ValAcc0.737.pth ===\n"
     ]
    },
    {
     "name": "stderr",
     "output_type": "stream",
     "text": [
      "Fold4 推論: 100%|██████████| 14000/14000 [16:49<00:00, 13.86件/s]\n"
     ]
    },
    {
     "name": "stdout",
     "output_type": "stream",
     "text": [
      "Fold4 - base accuracy: 0.6964, improved accuracy: 0.7013\n",
      "✅ fold4_results.csv saved\n",
      "=== Fold5 モデル読み込み: ./save_mask_models/best_model_epoch300_fold5_ValAcc0.735.pth ===\n"
     ]
    },
    {
     "name": "stderr",
     "output_type": "stream",
     "text": [
      "Fold5 推論: 100%|██████████| 14000/14000 [16:52<00:00, 13.82件/s]\n"
     ]
    },
    {
     "name": "stdout",
     "output_type": "stream",
     "text": [
      "Fold5 - base accuracy: 0.6899, improved accuracy: 0.7025\n",
      "✅ fold5_results.csv saved\n"
     ]
    }
   ],
   "source": [
    "import os\n",
    "import numpy as np\n",
    "import pandas as pd\n",
    "import torch\n",
    "from sklearn.model_selection import train_test_split\n",
    "from sklearn.preprocessing import LabelEncoder, StandardScaler\n",
    "from sklearn.metrics import confusion_matrix, ConfusionMatrixDisplay\n",
    "import matplotlib.pyplot as plt\n",
    "from tqdm import tqdm\n",
    "from fttransformer_mask import FTTransformer\n",
    "from math import log\n",
    "\n",
    "# ============ 設定 ============\n",
    "DATA_PATH = \"cardio_train.csv\"\n",
    "TEST_RATIO = 0.2\n",
    "categorical_features = [\"gender\", \"cholesterol\", \"gluc\", \"smoke\", \"alco\", \"active\"]\n",
    "continuous_features = [\"age\", \"height\", \"weight\", \"ap_hi\", \"ap_lo\"]\n",
    "additional_features = [\"cholesterol\", \"gluc\", \"smoke\", \"alco\", \"active\"]\n",
    "MASK_BASE = [False, False] + [True] * 5 + [False] * 5\n",
    "DEVICE = torch.device(\"cuda\")  # 必要に応じて \"cuda\" に変更\n",
    "\n",
    "# エントロピー計算関数\n",
    "def entropy(p: float) -> float:\n",
    "    if p <= 0 or p >= 1:\n",
    "        return 0.0\n",
    "    return - (p * log(p) + (1 - p) * log(1 - p))\n",
    "\n",
    "# モデルパス辞書\n",
    "fold_to_model_path = {\n",
    "    1: \"./save_mask_models/best_model_epoch300_fold1_ValAcc0.732.pth\",\n",
    "    2: \"./save_mask_models/best_model_epoch300_fold2_ValAcc0.739.pth\",\n",
    "    3: \"./save_mask_models/best_model_epoch300_fold3_ValAcc0.731.pth\",\n",
    "    4: \"./save_mask_models/best_model_epoch300_fold4_ValAcc0.737.pth\",\n",
    "    5: \"./save_mask_models/best_model_epoch300_fold5_ValAcc0.735.pth\",\n",
    "}\n",
    "\n",
    "# ============ メイン処理 ============\n",
    "def main():\n",
    "    # データ読み込み＆分割\n",
    "    data = pd.read_csv(DATA_PATH, sep=';')\n",
    "    ids = data[\"id\"].values\n",
    "    X = data.drop(columns=[\"cardio\"])\n",
    "    y = data[\"cardio\"]\n",
    "    X_trainval, X_test, y_trainval, y_test, id_trainval, id_test = \\\n",
    "        train_test_split(X, y, ids, test_size=TEST_RATIO, random_state=42, stratify=y)\n",
    "\n",
    "    # カテゴリ変数エンコード\n",
    "    encoders = {}\n",
    "    for col in categorical_features:\n",
    "        le = LabelEncoder()\n",
    "        X_trainval[col] = le.fit_transform(X_trainval[col])\n",
    "        X_test[col] = le.transform(X_test[col])\n",
    "        encoders[col] = le\n",
    "\n",
    "    # 連続値スケーリング\n",
    "    scaler = StandardScaler()\n",
    "    X_trainval[continuous_features] = scaler.fit_transform(X_trainval[continuous_features])\n",
    "    X_test[continuous_features] = scaler.transform(X_test[continuous_features])\n",
    "\n",
    "    # 出現確率再計算\n",
    "    feature_value_probs = {\n",
    "        feat: X_trainval[feat].value_counts(normalize=True).sort_index().to_dict()\n",
    "        for feat in additional_features\n",
    "    }\n",
    "\n",
    "    # 各foldごとに実行\n",
    "    for fold, model_path in fold_to_model_path.items():\n",
    "        print(f\"=== Fold{fold} モデル読み込み: {model_path} ===\")\n",
    "        if not os.path.exists(model_path):\n",
    "            print(f\"❌ モデルが存在しません: {model_path}\")\n",
    "            continue\n",
    "\n",
    "        # モデルロード\n",
    "        model = FTTransformer(\n",
    "            categories=[X[cat].nunique() for cat in categorical_features],\n",
    "            num_continuous=len(continuous_features),\n",
    "            dim=64, depth=6, heads=8, ff_dropout=0.2, attn_dropout=0.2\n",
    "        ).to(DEVICE)\n",
    "        model.load_state_dict(torch.load(model_path, map_location=DEVICE))\n",
    "        model.eval()\n",
    "\n",
    "        results = []\n",
    "        # 推論ループ\n",
    "        for i in tqdm(range(len(X_test)), desc=f\"Fold{fold} 推論\", unit=\"件\"):\n",
    "            sample_id = int(id_test[i])\n",
    "            label = int(y_test.iloc[i])\n",
    "            x_cat = torch.tensor([X_test.iloc[i][categorical_features].values], dtype=torch.long).to(DEVICE)\n",
    "            x_cont = torch.tensor([X_test.iloc[i][continuous_features].values.astype(np.float32)], dtype=torch.float32).to(DEVICE)\n",
    "\n",
    "            # ベース推論 + エントロピー\n",
    "            with torch.no_grad():\n",
    "                base_conf = torch.sigmoid(\n",
    "                    model(x_cat, x_cont, torch.tensor([MASK_BASE], dtype=torch.bool).to(DEVICE))\n",
    "                ).item()\n",
    "            base_ent  = entropy(base_conf)\n",
    "            base_pred = int(base_conf > 0.5)\n",
    "\n",
    "            # エントロピー削減量で特徴選択\n",
    "            best_reduction = -1.0\n",
    "            best_feat      = None\n",
    "            for feat in additional_features:\n",
    "                mask = MASK_BASE.copy()\n",
    "                mask[2 + additional_features.index(feat)] = False\n",
    "                expected_ent = 0.0\n",
    "                for val, prob in feature_value_probs[feat].items():\n",
    "                    x_alt = x_cat.clone()\n",
    "                    x_alt[0, categorical_features.index(feat)] = int(val)\n",
    "                    with torch.no_grad():\n",
    "                        conf_alt = torch.sigmoid(\n",
    "                            model(x_alt, x_cont, torch.tensor([mask], dtype=torch.bool).to(DEVICE))\n",
    "                        ).item()\n",
    "                    expected_ent += entropy(conf_alt) * prob\n",
    "                reduction = base_ent - expected_ent\n",
    "                if reduction > best_reduction:\n",
    "                    best_reduction = reduction\n",
    "                    best_feat      = feat\n",
    "\n",
    "            # 改良後推論\n",
    "            final_mask = MASK_BASE.copy()\n",
    "            final_mask[2 + additional_features.index(best_feat)] = False\n",
    "            with torch.no_grad():\n",
    "                best_conf = torch.sigmoid(\n",
    "                    model(x_cat, x_cont, torch.tensor([final_mask], dtype=torch.bool).to(DEVICE))\n",
    "                ).item()\n",
    "            improved_pred = int(best_conf > 0.5)\n",
    "\n",
    "            results.append({\n",
    "                'id': sample_id,\n",
    "                'answer': label,\n",
    "                'base_pred': base_pred,\n",
    "                'improved_pred': improved_pred,\n",
    "            })\n",
    "\n",
    "        # Accuracy計算\n",
    "        base_acc = sum(r['base_pred'] == r['answer'] for r in results) / len(results)\n",
    "        imp_acc  = sum(r['improved_pred'] == r['answer'] for r in results) / len(results)\n",
    "        print(f\"Fold{fold} - base accuracy: {base_acc:.4f}, improved accuracy: {imp_acc:.4f}\")\n",
    "\n",
    "        # 混同行列を横並びでプロット\n",
    "        y_true = [r['answer'] for r in results]\n",
    "        cm_base = confusion_matrix(y_true, [r['base_pred'] for r in results])\n",
    "        cm_imp  = confusion_matrix(y_true, [r['improved_pred'] for r in results])\n",
    "        fig, axes = plt.subplots(1, 2, figsize=(10, 5))\n",
    "        ConfusionMatrixDisplay(cm_base, display_labels=[0,1]).plot(ax=axes[0], cmap='Blues', colorbar=False)\n",
    "        axes[0].set_title('Base CM')\n",
    "        ConfusionMatrixDisplay(cm_imp, display_labels=[0,1]).plot(ax=axes[1], cmap='Blues', colorbar=False)\n",
    "        axes[1].set_title('Improved CM')\n",
    "        fig.suptitle(f'Fold{fold} Confusion Matrices')\n",
    "        fig.text(0.5, -0.05, f'Base Acc: {base_acc:.4f}    Improved Acc: {imp_acc:.4f}', ha='center')\n",
    "        plt.tight_layout()\n",
    "        plt.savefig(f'fold{fold}_cms.png', bbox_inches='tight')\n",
    "        plt.close()\n",
    "\n",
    "        # CSV保存\n",
    "        pd.DataFrame(results).sort_values('id').to_csv(f\"fold{fold}_results.csv\", index=False)\n",
    "        print(f\"✅ fold{fold}_results.csv saved\")\n",
    "\n",
    "if __name__ == \"__main__\":\n",
    "    main()"
   ]
  }
 ],
 "metadata": {
  "kernelspec": {
   "display_name": "base",
   "language": "python",
   "name": "python3"
  },
  "language_info": {
   "codemirror_mode": {
    "name": "ipython",
    "version": 3
   },
   "file_extension": ".py",
   "mimetype": "text/x-python",
   "name": "python",
   "nbconvert_exporter": "python",
   "pygments_lexer": "ipython3",
   "version": "3.12.9"
  }
 },
 "nbformat": 4,
 "nbformat_minor": 5
}
